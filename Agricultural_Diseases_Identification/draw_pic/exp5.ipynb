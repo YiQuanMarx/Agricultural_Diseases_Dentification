{
 "cells": [
  {
   "cell_type": "code",
   "execution_count": null,
   "metadata": {},
   "outputs": [],
   "source": []
  }
 ],
 "metadata": {
  "kernelspec": {
   "display_name": "efficient",
   "language": "python",
   "name": "python3"
  },
  "language_info": {
   "name": "python",
   "version": "3.8.1 | packaged by conda-forge | (default, Jan 29 2020, 14:55:04) \n[GCC 7.3.0]"
  },
  "orig_nbformat": 4,
  "vscode": {
   "interpreter": {
    "hash": "b238e2aa030ca35535b9c0b25e6f8ad18eb3cda5c66d63121fdd6fe82768a034"
   }
  }
 },
 "nbformat": 4,
 "nbformat_minor": 2
}
